{
 "cells": [
  {
   "cell_type": "code",
   "execution_count": null,
   "id": "fc908c4f",
   "metadata": {},
   "outputs": [],
   "source": [
    "Q1. What is the purpose of Python's OOP?\n",
    "Answer:\n",
    "    In Python, object-oriented Programming (OOPs) is a programming paradigm that uses objects and classes in programming. \n",
    "    It aims to implement real-world entities like inheritance, polymorphisms, encapsulation, etc"
   ]
  },
  {
   "cell_type": "code",
   "execution_count": null,
   "id": "dcf12e64",
   "metadata": {},
   "outputs": [],
   "source": [
    "Q2. Where does an inheritance search look for an attribute?\n",
    "Answer:\n",
    "    namespace tree"
   ]
  },
  {
   "cell_type": "code",
   "execution_count": null,
   "id": "67e6c213",
   "metadata": {},
   "outputs": [],
   "source": [
    "Q3. How do you distinguish between a class object and an instance object?\n",
    "Answer:\n",
    "    when we create a class in python then a class object is created\n",
    "    class MyClass:\n",
    "              pass\n",
    "    \n",
    "    when we call a class, it creates an instance object of that class from which the object has been created\n",
    "    Obj1=MyClass()"
   ]
  },
  {
   "cell_type": "code",
   "execution_count": null,
   "id": "9e6436ce",
   "metadata": {},
   "outputs": [],
   "source": [
    "Q4. What makes the first argument in a class’s method function special?\n",
    "Answer:\n",
    "    we use self as the first argument of every class method, including init, is always a reference to the current instance of the class\n",
    "    "
   ]
  },
  {
   "cell_type": "code",
   "execution_count": null,
   "id": "1413c412",
   "metadata": {},
   "outputs": [],
   "source": [
    "Q5. What is the purpose of the __init__ method?\n",
    "Answer:\n",
    "    The __init__ method is similar to constructors. __init__  are used to initialize the object's state. ."
   ]
  },
  {
   "cell_type": "code",
   "execution_count": null,
   "id": "ecb90061",
   "metadata": {},
   "outputs": [],
   "source": [
    "Q6. What is the process for creating a class instance?\n",
    "Answer:\n",
    "    A class is a template for storing data and functions in an object. A class can be instantiated to create a unique instance. A class can accept parameters in the constructor\n",
    "    ex: class C:\n",
    "            pass\n",
    "\n",
    "    an_instance = C()"
   ]
  },
  {
   "cell_type": "code",
   "execution_count": null,
   "id": "5598497e",
   "metadata": {},
   "outputs": [],
   "source": [
    "Q7. What is the process for creating a class?\n",
    "Answer: \n",
    "    Classes are created by keyword class\n",
    "    ex: class ClassName:\n",
    "            # Statement-1 \n",
    "            .\n",
    "            .\n",
    "            # Statement-N\n",
    "    "
   ]
  },
  {
   "cell_type": "code",
   "execution_count": null,
   "id": "b665a091",
   "metadata": {},
   "outputs": [],
   "source": [
    "Q8. How would you define the superclasses of a class?\n",
    "Answer:\n",
    "    A superclass is the class from which many subclasses can be created. The subclasses inherit the characteristics of a superclass. \n",
    "    The superclass is also known as the parent class or base class\n",
    "    ex:\n",
    "        class Animal():\n",
    "              def __init__(self, animal_type):\n",
    "                print('Animal:', animal_type)\n",
    "\n",
    "        class Lion(Animal):\n",
    "              def __init__(self):\n",
    "\n",
    "                # call superclass\n",
    "                super().__init__('leo family')\n",
    "                print('lion ')"
   ]
  }
 ],
 "metadata": {
  "kernelspec": {
   "display_name": "Python 3 (ipykernel)",
   "language": "python",
   "name": "python3"
  },
  "language_info": {
   "codemirror_mode": {
    "name": "ipython",
    "version": 3
   },
   "file_extension": ".py",
   "mimetype": "text/x-python",
   "name": "python",
   "nbconvert_exporter": "python",
   "pygments_lexer": "ipython3",
   "version": "3.9.7"
  }
 },
 "nbformat": 4,
 "nbformat_minor": 5
}
