{
 "cells": [
  {
   "cell_type": "code",
   "execution_count": null,
   "id": "f82d3586",
   "metadata": {},
   "outputs": [],
   "source": [
    "1. How do you distinguish between shutil.copy() and shutil.copytree()?"
   ]
  },
  {
   "cell_type": "code",
   "execution_count": null,
   "id": "5d5ca663",
   "metadata": {},
   "outputs": [],
   "source": [
    "Answer:\n",
    "    shutil.copy() function will copy a single file,\n",
    "    while shutil.copytree() will copy an entire folder, along with all its contents."
   ]
  },
  {
   "cell_type": "code",
   "execution_count": null,
   "id": "cd8776b6",
   "metadata": {},
   "outputs": [],
   "source": [
    "2. What function is used to rename files??"
   ]
  },
  {
   "cell_type": "code",
   "execution_count": null,
   "id": "a1baa6ec",
   "metadata": {},
   "outputs": [],
   "source": [
    "Answer:\n",
    "     shutil.move() function is used for renaming files, as well as moving them."
   ]
  },
  {
   "cell_type": "code",
   "execution_count": null,
   "id": "7457054d",
   "metadata": {},
   "outputs": [],
   "source": [
    "3. What is the difference between the delete functions in the send2trash and shutil modules?"
   ]
  },
  {
   "cell_type": "code",
   "execution_count": null,
   "id": "56360ab4",
   "metadata": {},
   "outputs": [],
   "source": [
    "Answer:\n",
    "    send2trash functions will move a file or folder to the recycle bin, \n",
    "    while shutil functions will permanently delete files and folders."
   ]
  },
  {
   "cell_type": "code",
   "execution_count": null,
   "id": "7caec7b8",
   "metadata": {},
   "outputs": [],
   "source": [
    "4.ZipFile objects have a close() method just like File objects’ close() method. What ZipFile method is equivalent to File objects’ open() method?"
   ]
  },
  {
   "cell_type": "code",
   "execution_count": null,
   "id": "d92b0f88",
   "metadata": {},
   "outputs": [],
   "source": [
    "Answer:\n",
    "    zipfile.ZipFile() function is equivalent to the open() function; \n",
    "    the first argument is the filename, and the second argument is the mode to open the ZIP file in (read, write, or append)."
   ]
  },
  {
   "cell_type": "code",
   "execution_count": null,
   "id": "41fe66f2",
   "metadata": {},
   "outputs": [],
   "source": [
    "5. Create a programme that searches a folder tree for files with a certain file extension (such as .pdf or .jpg). Copy these files from whatever location they are in to a new folder."
   ]
  },
  {
   "cell_type": "code",
   "execution_count": null,
   "id": "db20c9b0",
   "metadata": {},
   "outputs": [],
   "source": [
    "Answer:\n",
    "    import os, shutil\n",
    "\n",
    "def selectiveCopy(folder, extensions, destFolder):\n",
    "    folder = os.path.abspath(folder)\n",
    "    destFolder = os.path.abspath(destFolder)\n",
    "    print('Looking in', folder, 'for files with extensions of', ', '.join(extensions))\n",
    "    for foldername, subfolders, filenames in os.walk(folder):\n",
    "        for filename in filenames:\n",
    "            name, extension = os.path.splitext(filename)\n",
    "            if extension in extensions:\n",
    "                fileAbsPath = foldername + os.path.sep + filename\n",
    "                print('Coping', fileAbsPath, 'to', destFolder)\n",
    "                shutil.copy(fileAbsPath, destFolder)\n",
    "\n",
    "extensions = ['.php', '.py']\n",
    "folder = 'randomFolder'\n",
    "destFolder = 'selectiveFolder'\n",
    "selectiveCopy(folder, extensions, destFolder)\n",
    "    "
   ]
  }
 ],
 "metadata": {
  "kernelspec": {
   "display_name": "Python 3 (ipykernel)",
   "language": "python",
   "name": "python3"
  },
  "language_info": {
   "codemirror_mode": {
    "name": "ipython",
    "version": 3
   },
   "file_extension": ".py",
   "mimetype": "text/x-python",
   "name": "python",
   "nbconvert_exporter": "python",
   "pygments_lexer": "ipython3",
   "version": "3.9.7"
  }
 },
 "nbformat": 4,
 "nbformat_minor": 5
}
