{
 "cells": [
  {
   "cell_type": "code",
   "execution_count": null,
   "id": "83bb868a",
   "metadata": {},
   "outputs": [],
   "source": [
    "1. In the below elements which of them are values or an expression? eg:- values can be integer or string and expressions will be mathematical operators.\n",
    "* \n",
    "'hello'\n",
    "-87.8\n",
    "- \n",
    "/ \n",
    "+\n",
    "6 \n"
   ]
  },
  {
   "cell_type": "code",
   "execution_count": null,
   "id": "f284b3cc",
   "metadata": {},
   "outputs": [],
   "source": [
    "Answer\n",
    "values= 'hello', -87.8, 6\n",
    "expression= * - / +"
   ]
  },
  {
   "cell_type": "code",
   "execution_count": null,
   "id": "e5b1bb4a",
   "metadata": {},
   "outputs": [],
   "source": [
    "2. What is the difference between string and variable?"
   ]
  },
  {
   "cell_type": "code",
   "execution_count": null,
   "id": "f6d377cb",
   "metadata": {},
   "outputs": [],
   "source": [
    "Answer\n",
    "string is datatype which is store in variable\n",
    "varible is bascially name of the location in the primary memory. variable can store information"
   ]
  },
  {
   "cell_type": "code",
   "execution_count": null,
   "id": "ed002c7a",
   "metadata": {},
   "outputs": [],
   "source": [
    "3. Describe three different data types.\n"
   ]
  },
  {
   "cell_type": "code",
   "execution_count": null,
   "id": "189650d8",
   "metadata": {},
   "outputs": [],
   "source": [
    "Answer\n",
    "int\n",
    "string\n",
    "bool"
   ]
  },
  {
   "cell_type": "code",
   "execution_count": null,
   "id": "a5940926",
   "metadata": {},
   "outputs": [],
   "source": [
    "4. What is an expression made up of? What do all expressions do?\n"
   ]
  },
  {
   "cell_type": "code",
   "execution_count": null,
   "id": "f517dc10",
   "metadata": {},
   "outputs": [],
   "source": [
    "Answer\n",
    "expression made up for value,variable,operator and call function\n",
    "expression do representations of value, evaluates \n"
   ]
  },
  {
   "cell_type": "code",
   "execution_count": null,
   "id": "39b735f4",
   "metadata": {},
   "outputs": [],
   "source": [
    "5. This assignment statements, like spam = 10. What is the difference between an expression and a statement?"
   ]
  },
  {
   "cell_type": "code",
   "execution_count": null,
   "id": "5d3c9404",
   "metadata": {},
   "outputs": [],
   "source": [
    "Answer\n",
    "every expression can’t be a statement\n",
    "every statement can be a expression"
   ]
  },
  {
   "cell_type": "code",
   "execution_count": null,
   "id": "f558277d",
   "metadata": {},
   "outputs": [],
   "source": [
    "6. After running the following code, what does the variable bacon contain?\n",
    "bacon = 22\n",
    "bacon + 1\n"
   ]
  },
  {
   "cell_type": "code",
   "execution_count": null,
   "id": "312f7bff",
   "metadata": {},
   "outputs": [],
   "source": [
    "Answer\n",
    "3"
   ]
  },
  {
   "cell_type": "code",
   "execution_count": null,
   "id": "d1f0cbc4",
   "metadata": {},
   "outputs": [],
   "source": [
    "7. What should the values of the following two terms be?\n",
    "'spam' + 'spamspam'\n",
    "'spam' * 3\n"
   ]
  },
  {
   "cell_type": "code",
   "execution_count": 2,
   "id": "603e6fd9",
   "metadata": {},
   "outputs": [],
   "source": [
    "Answer\n",
    "'spamspamspam'\n",
    "'spamspamspam'"
   ]
  },
  {
   "cell_type": "code",
   "execution_count": null,
   "id": "e2b6bbd6",
   "metadata": {},
   "outputs": [],
   "source": [
    "8. Why is eggs a valid variable name while 100 is invalid?\n"
   ]
  },
  {
   "cell_type": "code",
   "execution_count": null,
   "id": "64dcdca0",
   "metadata": {},
   "outputs": [],
   "source": [
    "Answer\n",
    "variable must be start with char"
   ]
  },
  {
   "cell_type": "code",
   "execution_count": null,
   "id": "b821a944",
   "metadata": {},
   "outputs": [],
   "source": [
    "9. What three functions can be used to get the integer, floating-point number, or string version of a value?"
   ]
  },
  {
   "cell_type": "code",
   "execution_count": null,
   "id": "acbedbdb",
   "metadata": {},
   "outputs": [],
   "source": [
    "Answer\n",
    "int(),float(),str()"
   ]
  },
  {
   "cell_type": "code",
   "execution_count": null,
   "id": "ab883cfb",
   "metadata": {},
   "outputs": [],
   "source": [
    "10. Why does this expression cause an error? How can you fix it?\n",
    "'I have eaten ' + 99 + ' burritos.'\n"
   ]
  },
  {
   "cell_type": "code",
   "execution_count": null,
   "id": "7a132e84",
   "metadata": {},
   "outputs": [],
   "source": [
    "Answer\n",
    "it will give error because of 99 is interger so we need to casting to fix this error\n",
    "\n",
    "'I have eaten ' + str(99) + ' burritos.'"
   ]
  }
 ],
 "metadata": {
  "kernelspec": {
   "display_name": "Python 3 (ipykernel)",
   "language": "python",
   "name": "python3"
  },
  "language_info": {
   "codemirror_mode": {
    "name": "ipython",
    "version": 3
   },
   "file_extension": ".py",
   "mimetype": "text/x-python",
   "name": "python",
   "nbconvert_exporter": "python",
   "pygments_lexer": "ipython3",
   "version": "3.9.7"
  }
 },
 "nbformat": 4,
 "nbformat_minor": 5
}
