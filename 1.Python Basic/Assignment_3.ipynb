{
 "cells": [
  {
   "cell_type": "code",
   "execution_count": null,
   "id": "6c7f88db",
   "metadata": {},
   "outputs": [],
   "source": [
    "1. Why are functions advantageous to have in your programs?\n",
    "Answer\n",
    "Functions enable reuse of code, improve maintainability and scalability."
   ]
  },
  {
   "cell_type": "code",
   "execution_count": null,
   "id": "1e9b1ad0",
   "metadata": {},
   "outputs": [],
   "source": [
    "2. When does the code in a function run: when it's specified or when it's called?\n",
    "Answer\n",
    " code in a function run when the function is called, not when the function is specified."
   ]
  },
  {
   "cell_type": "code",
   "execution_count": null,
   "id": "6e74e246",
   "metadata": {},
   "outputs": [],
   "source": [
    "3. What statement creates a function?\n",
    "Answer\n",
    " def statement create function"
   ]
  },
  {
   "cell_type": "code",
   "execution_count": null,
   "id": "39bd953f",
   "metadata": {},
   "outputs": [],
   "source": [
    "4. What is the difference between a function and a function call?\n",
    "ANswer\n",
    "  function consists of the def statement and the code in its def clause. \n",
    "    A function call is what moves the program execution into the function,\n",
    "    and the function call evaluates to the functions return value."
   ]
  },
  {
   "cell_type": "code",
   "execution_count": null,
   "id": "c162f17e",
   "metadata": {},
   "outputs": [],
   "source": [
    "5. How many global scopes are there in a Python program? How many local scopes?\n",
    "Answer\n",
    "   only one global scope in python, local scope created when function call"
   ]
  },
  {
   "cell_type": "code",
   "execution_count": null,
   "id": "debd4e9b",
   "metadata": {},
   "outputs": [],
   "source": [
    "6. What happens to variables in a local scope when the function call returns?\n",
    "Answer\n",
    "   when function is return all variable in local scope are dispose "
   ]
  },
  {
   "cell_type": "code",
   "execution_count": null,
   "id": "a8e7caf1",
   "metadata": {},
   "outputs": [],
   "source": [
    "7. What is the concept of a return value? Is it possible to have a return value in an expression?\n",
    "Answer\n",
    "     return value is the value that a function call evaluates to. yes it is possible to return value is an expression."
   ]
  },
  {
   "cell_type": "code",
   "execution_count": null,
   "id": "37da2b20",
   "metadata": {},
   "outputs": [],
   "source": [
    "8. If a function does not have a return statement, what is the return value of a call to that function?\n",
    "Answer\n",
    "   none"
   ]
  },
  {
   "cell_type": "code",
   "execution_count": null,
   "id": "6e72d728",
   "metadata": {},
   "outputs": [],
   "source": [
    "9. How do you make a function variable refer to the global variable?\n",
    "ANswer\n",
    "   global statement will variable in a function to refer to the global variable"
   ]
  },
  {
   "cell_type": "code",
   "execution_count": null,
   "id": "d038cd4e",
   "metadata": {},
   "outputs": [],
   "source": [
    "10. What is the data type of None?\n",
    "answer\n",
    " NONEType."
   ]
  },
  {
   "cell_type": "code",
   "execution_count": null,
   "id": "951da878",
   "metadata": {},
   "outputs": [],
   "source": [
    "11. What does the sentence import areallyourpetsnamederic do?\n",
    "Answer\n",
    " imports a module named areallyyourpetsnamederoc"
   ]
  },
  {
   "cell_type": "code",
   "execution_count": null,
   "id": "806f4eca",
   "metadata": {},
   "outputs": [],
   "source": [
    "12. If you had a bacon() feature in a spam module, what would you call it after importing spam?\n",
    "Answer\n",
    "   spam.bacon()"
   ]
  },
  {
   "cell_type": "code",
   "execution_count": null,
   "id": "d4405ff5",
   "metadata": {},
   "outputs": [],
   "source": [
    "13. What can you do to save a programme from crashing if it encounters an error?\n",
    "ANswer\n",
    "  exception handling using try clause"
   ]
  },
  {
   "cell_type": "code",
   "execution_count": null,
   "id": "550d8786",
   "metadata": {},
   "outputs": [],
   "source": [
    "14. What is the purpose of the try clause? What is the purpose of the except clause?\n",
    "Answer\n",
    "if error comes from  try clause. if error occure except clause execute"
   ]
  }
 ],
 "metadata": {
  "kernelspec": {
   "display_name": "Python 3 (ipykernel)",
   "language": "python",
   "name": "python3"
  },
  "language_info": {
   "codemirror_mode": {
    "name": "ipython",
    "version": 3
   },
   "file_extension": ".py",
   "mimetype": "text/x-python",
   "name": "python",
   "nbconvert_exporter": "python",
   "pygments_lexer": "ipython3",
   "version": "3.9.7"
  }
 },
 "nbformat": 4,
 "nbformat_minor": 5
}
