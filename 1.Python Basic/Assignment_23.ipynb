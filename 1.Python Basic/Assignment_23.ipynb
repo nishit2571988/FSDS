{
 "cells": [
  {
   "cell_type": "code",
   "execution_count": null,
   "id": "f82d3586",
   "metadata": {},
   "outputs": [],
   "source": [
    "1. What is the result of the code, and why?\n",
    ">>> def func(a, b=6, c=8):\n",
    "print(a, b, c)\n",
    ">>> func(1, 2)\n"
   ]
  },
  {
   "cell_type": "code",
   "execution_count": null,
   "id": "720ab19f",
   "metadata": {},
   "outputs": [],
   "source": [
    "Answer:\n",
    "    It will return 1,2,8 because we pass only two valu for a as 1 and b as 2 and c consider default value\n",
    "    "
   ]
  },
  {
   "cell_type": "code",
   "execution_count": null,
   "id": "9adec21c",
   "metadata": {},
   "outputs": [],
   "source": [
    "2. What is the result of this code, and why?\n",
    ">>> def func(a, b, c=5):\n",
    "print(a, b, c)\n",
    ">>> func(1, c=3, b=2)\n"
   ]
  },
  {
   "cell_type": "code",
   "execution_count": null,
   "id": "260feaf3",
   "metadata": {},
   "outputs": [],
   "source": [
    "Answer:\n",
    "    It will return 1 2 3 because we value for all three variable a,b,c"
   ]
  },
  {
   "cell_type": "code",
   "execution_count": null,
   "id": "6adb9fde",
   "metadata": {},
   "outputs": [],
   "source": [
    "3. How about this code: what is its result, and why?\n",
    ">>> def func(a, *pargs):\n",
    "print(a, pargs)\n",
    ">>> func(1, 2, 3)\n"
   ]
  },
  {
   "cell_type": "code",
   "execution_count": null,
   "id": "7f2a2e0f",
   "metadata": {},
   "outputs": [],
   "source": [
    "Answer:\n",
    "    It will return 1 (2, 3) because we  passes variable length non keyword argument to function"
   ]
  },
  {
   "cell_type": "code",
   "execution_count": null,
   "id": "ba0972b9",
   "metadata": {},
   "outputs": [],
   "source": [
    "4. What does this code print, and why?\n",
    ">>> def func(a, **kargs):\n",
    "print(a, kargs)\n",
    ">>> func(a=1, c=3, b=2)\n"
   ]
  },
  {
   "cell_type": "code",
   "execution_count": null,
   "id": "1389bad4",
   "metadata": {},
   "outputs": [],
   "source": [
    "Answer:\n",
    "    it will return 1 {'c': 3, 'b': 2} because we pass variable length of keyword arguments in function"
   ]
  },
  {
   "cell_type": "code",
   "execution_count": null,
   "id": "04449b8f",
   "metadata": {},
   "outputs": [],
   "source": [
    "5. What gets printed by this, and explain?\n",
    ">>> def func(a, b, c=8, d=5): print(a, b, c, d)\n",
    ">>> func(1, *(5, 6))\n"
   ]
  },
  {
   "cell_type": "code",
   "execution_count": null,
   "id": "2b5b4778",
   "metadata": {},
   "outputs": [],
   "source": [
    "Answer:\n",
    "    it will return 1 5 6 5 because we pass a as 1 and pass b,c as vaiable length *(5,6) and d consider default value"
   ]
  },
  {
   "cell_type": "code",
   "execution_count": null,
   "id": "8243c59b",
   "metadata": {},
   "outputs": [],
   "source": [
    "6. what is the result of this, and explain?\n",
    ">>> def func(a, b, c): a = 2; b[0] = 'x'; c['a'] = 'y'\n",
    ">>> l=1; m=[1]; n={'a':0}\n",
    ">>> func(l, m, n)\n",
    ">>> l, m, n\n"
   ]
  },
  {
   "cell_type": "code",
   "execution_count": null,
   "id": "35493fbf",
   "metadata": {},
   "outputs": [],
   "source": [
    "Answer:\n",
    "    it will return (1, ['x'], {'a': 'y'}) because we pass as below\n",
    "    "
   ]
  },
  {
   "cell_type": "code",
   "execution_count": null,
   "id": "8d3b523a",
   "metadata": {},
   "outputs": [],
   "source": []
  }
 ],
 "metadata": {
  "kernelspec": {
   "display_name": "Python 3 (ipykernel)",
   "language": "python",
   "name": "python3"
  },
  "language_info": {
   "codemirror_mode": {
    "name": "ipython",
    "version": 3
   },
   "file_extension": ".py",
   "mimetype": "text/x-python",
   "name": "python",
   "nbconvert_exporter": "python",
   "pygments_lexer": "ipython3",
   "version": "3.9.7"
  }
 },
 "nbformat": 4,
 "nbformat_minor": 5
}
