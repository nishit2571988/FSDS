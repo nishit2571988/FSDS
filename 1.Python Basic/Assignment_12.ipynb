{
 "cells": [
  {
   "cell_type": "code",
   "execution_count": null,
   "id": "f82d3586",
   "metadata": {},
   "outputs": [],
   "source": [
    "1. In what modes should the PdfFileReader() and PdfFileWriter() File objects will be opened?"
   ]
  },
  {
   "cell_type": "code",
   "execution_count": null,
   "id": "ee311ac5",
   "metadata": {},
   "outputs": [],
   "source": [
    "Answer:\n",
    "    Read-binary ('rb') for PdfFileReader() and \n",
    "    write-binary ('wb') for PdfFileWriter()"
   ]
  },
  {
   "cell_type": "code",
   "execution_count": null,
   "id": "9f1c47e1",
   "metadata": {},
   "outputs": [],
   "source": [
    "2. From a PdfFileReader object, how do you get a Page object for page 5?"
   ]
  },
  {
   "cell_type": "code",
   "execution_count": null,
   "id": "f92e11ef",
   "metadata": {},
   "outputs": [],
   "source": [
    "Answer:\n",
    "    Calling getPage(4) will return a Page object for About this Book, since page 0 is the first page."
   ]
  },
  {
   "cell_type": "code",
   "execution_count": null,
   "id": "fcc73f82",
   "metadata": {},
   "outputs": [],
   "source": [
    "3. What PdfFileReader variable stores the number of pages in the PDF document?"
   ]
  },
  {
   "cell_type": "code",
   "execution_count": null,
   "id": "dabdd586",
   "metadata": {},
   "outputs": [],
   "source": [
    "Answer:\n",
    "    The numPages variable stores an integer of the number of pages in the PdfFileReader object."
   ]
  },
  {
   "cell_type": "code",
   "execution_count": null,
   "id": "058bfbe1",
   "metadata": {},
   "outputs": [],
   "source": [
    "4. If a PdfFileReader object’s PDF is encrypted with the password swordfish, what must you do before you can obtain Page objects from it?"
   ]
  },
  {
   "cell_type": "code",
   "execution_count": null,
   "id": "1959178f",
   "metadata": {},
   "outputs": [],
   "source": [
    "Answer:\n",
    "    Call decrypt('swordfish')"
   ]
  },
  {
   "cell_type": "code",
   "execution_count": null,
   "id": "86022471",
   "metadata": {},
   "outputs": [],
   "source": [
    "5. What methods do you use to rotate a page?"
   ]
  },
  {
   "cell_type": "code",
   "execution_count": null,
   "id": "ad7ac05b",
   "metadata": {},
   "outputs": [],
   "source": [
    "Answer:\n",
    "    rotateClockwise(90)"
   ]
  },
  {
   "cell_type": "code",
   "execution_count": null,
   "id": "720d10f9",
   "metadata": {},
   "outputs": [],
   "source": [
    "6. What is the difference between a Run object and a Paragraph object?"
   ]
  },
  {
   "cell_type": "code",
   "execution_count": null,
   "id": "cbcd63f3",
   "metadata": {},
   "outputs": [],
   "source": [
    "Answer:\n",
    "    A document contains multiple paragraphs.\n",
    "    A paragraph begins on a new line and contains multiple runs. \n",
    "    Runs are contiguous groups of characters within the a paragraph."
   ]
  },
  {
   "cell_type": "code",
   "execution_count": null,
   "id": "8bd45cc8",
   "metadata": {},
   "outputs": [],
   "source": [
    "7. How do you obtain a list of Paragraph objects for a Document object that’s stored in a variable named doc?"
   ]
  },
  {
   "cell_type": "code",
   "execution_count": null,
   "id": "e3ab33fa",
   "metadata": {},
   "outputs": [],
   "source": [
    "Answer:\n",
    "    docx.Document('demo.docx')"
   ]
  },
  {
   "cell_type": "code",
   "execution_count": null,
   "id": "d203a1ce",
   "metadata": {},
   "outputs": [],
   "source": [
    "8. What type of object has bold, underline, italic, strike, and outline variables?"
   ]
  },
  {
   "cell_type": "code",
   "execution_count": null,
   "id": "6a841b0d",
   "metadata": {},
   "outputs": [],
   "source": [
    "Answer:\n",
    "    A Run object has these variables (not a paragraph)"
   ]
  },
  {
   "cell_type": "code",
   "execution_count": null,
   "id": "bfbb0260",
   "metadata": {},
   "outputs": [],
   "source": [
    "9. What is the difference between False, True, and None for the bold variable?"
   ]
  },
  {
   "cell_type": "code",
   "execution_count": null,
   "id": "6ef0e1fd",
   "metadata": {},
   "outputs": [],
   "source": [
    "Answer:\n",
    "    True always makes the Run object bolded \n",
    "    False makes it always not bolded, no matter what the style's bold setting is. None will make the Run object just use the style's bold setting."
   ]
  },
  {
   "cell_type": "code",
   "execution_count": null,
   "id": "cf01e0e9",
   "metadata": {},
   "outputs": [],
   "source": [
    "10. How do you create a Document object for a new Word document?"
   ]
  },
  {
   "cell_type": "code",
   "execution_count": null,
   "id": "4bd65659",
   "metadata": {},
   "outputs": [],
   "source": [
    "Answer:\n",
    "    Call the docx.Document() function."
   ]
  },
  {
   "cell_type": "code",
   "execution_count": null,
   "id": "22816a6d",
   "metadata": {},
   "outputs": [],
   "source": [
    "11. How do you add a paragraph with the text 'Hello, there!' to a Document object stored in a variable named doc?"
   ]
  },
  {
   "cell_type": "code",
   "execution_count": null,
   "id": "8293cfe4",
   "metadata": {},
   "outputs": [],
   "source": [
    "Answer:\n",
    "    doc.add_paragraph('Hello there!')"
   ]
  },
  {
   "cell_type": "code",
   "execution_count": null,
   "id": "990d7b6b",
   "metadata": {},
   "outputs": [],
   "source": [
    "12. What integers represent the levels of headings available in Word documents?"
   ]
  },
  {
   "cell_type": "code",
   "execution_count": null,
   "id": "9852dcf8",
   "metadata": {},
   "outputs": [],
   "source": [
    "Answer:\n",
    "     The integers 0,1,2,3, and 4"
   ]
  }
 ],
 "metadata": {
  "kernelspec": {
   "display_name": "Python 3 (ipykernel)",
   "language": "python",
   "name": "python3"
  },
  "language_info": {
   "codemirror_mode": {
    "name": "ipython",
    "version": 3
   },
   "file_extension": ".py",
   "mimetype": "text/x-python",
   "name": "python",
   "nbconvert_exporter": "python",
   "pygments_lexer": "ipython3",
   "version": "3.9.7"
  }
 },
 "nbformat": 4,
 "nbformat_minor": 5
}
