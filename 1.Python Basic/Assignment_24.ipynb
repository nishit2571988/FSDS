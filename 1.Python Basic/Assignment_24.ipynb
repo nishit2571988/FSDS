{
 "cells": [
  {
   "cell_type": "code",
   "execution_count": null,
   "id": "f82d3586",
   "metadata": {},
   "outputs": [],
   "source": [
    "1. What is the relationship between def statements and lambda expressions ?"
   ]
  },
  {
   "cell_type": "code",
   "execution_count": null,
   "id": "c65df0c7",
   "metadata": {},
   "outputs": [],
   "source": [
    "Answer:\n",
    "    def defined functions are commonly used because of their simplicity. The def defined functions do not return anything if not explicitly returned whereas the lambda function does return an object. The def functions must be declared in the namespace. The def functions can perform any python task including multiple conditions, nested conditions or loops of any level, printing, importing libraries, raising Exceptions, etc\n",
    "    The lambda functions can be used without any declaration in the namespace. The lambda functions defined above are like single-line functions. These functions do not have parenthesis like the def defined functions but instead, take parameters after the lambda keyword as shown above. There is no return keyword defined explicitly because the lambda function does return an object by default"
   ]
  },
  {
   "cell_type": "code",
   "execution_count": null,
   "id": "9e44a5fc",
   "metadata": {},
   "outputs": [],
   "source": [
    "2. What is the benefit of lambda?"
   ]
  },
  {
   "cell_type": "code",
   "execution_count": null,
   "id": "aeff168c",
   "metadata": {},
   "outputs": [],
   "source": [
    "Answer:\n",
    "    The lambda keyword in Python provides a shortcut for declaring small anonymous functions. Lambda functions behave just like regular functions declared with the def keyword. They can be used whenever function objects are require"
   ]
  },
  {
   "cell_type": "code",
   "execution_count": null,
   "id": "d831a174",
   "metadata": {},
   "outputs": [],
   "source": [
    "3. Compare and contrast map, filter, and reduce."
   ]
  },
  {
   "cell_type": "code",
   "execution_count": null,
   "id": "d353c5f3",
   "metadata": {},
   "outputs": [],
   "source": [
    "Answer:\n",
    "    The map() function iterates through all items in the given iterable and executes the function we passed as an argument on each of them\n",
    "       Syntax:  map(function, iterable(s))\n",
    "        \n",
    "    The filter() forms a new list that contains only elements that satisfy a certain condition, i.e. the function we passed returns True.\n",
    "       Syntax: filter(function, iterable(s))\n",
    "    \n",
    "    reduce() works differently than map() and filter(). It does not return a new list based on the function and iterable we have passed. Instead, it returns a single value.\n",
    "       Syntax: reduce(function, sequence[, initial])\n",
    "    "
   ]
  },
  {
   "cell_type": "code",
   "execution_count": null,
   "id": "93d3563c",
   "metadata": {},
   "outputs": [],
   "source": [
    "4. What are function annotations, and how are they used?"
   ]
  },
  {
   "cell_type": "code",
   "execution_count": null,
   "id": "b23158e7",
   "metadata": {},
   "outputs": [],
   "source": [
    "Answer:\n",
    "    Function annotations are arbitrary python expressions that are associated with various part of functions. These expressions are evaluated at compile time and have no life in python’s runtime environment. Python does not attach any meaning to these annotations. They take life when interpreted by third party libraries\n",
    "    \n",
    "    example\n",
    "        def fib(n:'int', output:'list'=[])-> 'list':\n",
    "            if n == 0:\n",
    "                return output\n",
    "            else:\n",
    "                if len(output)< 2:\n",
    "                    output.append(1)\n",
    "                    fib(n-1, output)\n",
    "                else:\n",
    "                    last = output[-1]\n",
    "                    second_last = output[-2]\n",
    "                    output.append(last + second_last)\n",
    "                    fib(n-1, output)\n",
    "                return output\n",
    "    print(fib.__annotations__)"
   ]
  },
  {
   "cell_type": "code",
   "execution_count": null,
   "id": "f2c7580d",
   "metadata": {},
   "outputs": [],
   "source": [
    "5. What are recursive functions, and how are they used?"
   ]
  },
  {
   "cell_type": "code",
   "execution_count": null,
   "id": "97bf34ba",
   "metadata": {},
   "outputs": [],
   "source": [
    "Answer:\n",
    "     recursive can be defined as the process of defining something in terms of itself. In simple words, it is a process in which a function calls itself directly or indirectly.\n",
    "        \n",
    "        Example\n",
    "            def recursive_factorial(n):  \n",
    "               if n == 1:  \n",
    "                   return n  \n",
    "               else:  \n",
    "                   return n * recursive_factorial(n-1)  \n",
    "                   \n",
    "        "
   ]
  },
  {
   "cell_type": "code",
   "execution_count": null,
   "id": "493c00c4",
   "metadata": {},
   "outputs": [],
   "source": [
    "6. What are some general design guidelines for coding functions?"
   ]
  },
  {
   "cell_type": "code",
   "execution_count": null,
   "id": "821e6db2",
   "metadata": {},
   "outputs": [],
   "source": [
    "Answer:\n",
    "def function_name(parameters):\n",
    "    \"\"\"docstring\"\"\"\n",
    "    statement(s)"
   ]
  },
  {
   "cell_type": "code",
   "execution_count": null,
   "id": "ec976fdc",
   "metadata": {},
   "outputs": [],
   "source": [
    "7. Name three or more ways that functions can communicate results to a caller."
   ]
  },
  {
   "cell_type": "code",
   "execution_count": null,
   "id": "c6c072c5",
   "metadata": {},
   "outputs": [],
   "source": [
    "Answer:\n",
    "    1. func()\n",
    "    2. print(func())\n",
    "    3. a=func(1,2)"
   ]
  }
 ],
 "metadata": {
  "kernelspec": {
   "display_name": "Python 3 (ipykernel)",
   "language": "python",
   "name": "python3"
  },
  "language_info": {
   "codemirror_mode": {
    "name": "ipython",
    "version": 3
   },
   "file_extension": ".py",
   "mimetype": "text/x-python",
   "name": "python",
   "nbconvert_exporter": "python",
   "pygments_lexer": "ipython3",
   "version": "3.9.7"
  }
 },
 "nbformat": 4,
 "nbformat_minor": 5
}
