{
 "cells": [
  {
   "cell_type": "code",
   "execution_count": null,
   "id": "f82d3586",
   "metadata": {},
   "outputs": [],
   "source": [
    "1. Make a class called Thing with no contents and print it. Then, create an object called example from this class and also print it. Are the printed values the same or different?"
   ]
  },
  {
   "cell_type": "code",
   "execution_count": null,
   "id": "fdcab71c",
   "metadata": {},
   "outputs": [],
   "source": [
    "Answer:\n",
    "    class Thing:\n",
    "          pass\n",
    "\n",
    "     print(Thing)\n",
    "    \n",
    "     example = Thing()\n",
    "     print(example)\n"
   ]
  },
  {
   "cell_type": "code",
   "execution_count": null,
   "id": "353f96ef",
   "metadata": {},
   "outputs": [],
   "source": [
    "2. Create a new class called Thing2 and add the value 'abc' to the letters class attribute. Letters should be printed."
   ]
  },
  {
   "cell_type": "code",
   "execution_count": null,
   "id": "3952a51b",
   "metadata": {},
   "outputs": [],
   "source": [
    "Answer:\n",
    "    class Thing2:\n",
    "        letters='abc'\n",
    "        \n",
    "    print(Thing2.letters)"
   ]
  },
  {
   "cell_type": "code",
   "execution_count": null,
   "id": "33c7a4db",
   "metadata": {},
   "outputs": [],
   "source": [
    "3. Make yet another class called, of course, Thing3. This time, assign the value 'xyz' to an instance (object) attribute called letters. Print letters. Do you need to make an object from the class to do this?"
   ]
  },
  {
   "cell_type": "code",
   "execution_count": null,
   "id": "3ad5467e",
   "metadata": {},
   "outputs": [],
   "source": [
    "Answer:\n",
    "    class Thing3:\n",
    "         def __init__(self):\n",
    "             self.letters = 'xyz'\n",
    "\n",
    "    a = Thing3()\n",
    "    print(a.letters)"
   ]
  },
  {
   "cell_type": "code",
   "execution_count": null,
   "id": "b4e524fc",
   "metadata": {},
   "outputs": [],
   "source": [
    "4. Create an Element class with the instance attributes name, symbol, and number. Create a class object with the values 'Hydrogen,' 'H,' and 1."
   ]
  },
  {
   "cell_type": "code",
   "execution_count": null,
   "id": "8e56f14a",
   "metadata": {},
   "outputs": [],
   "source": [
    "Answer:\n",
    "    class Element:\n",
    "         def __init__(self, name, symbol, number):\n",
    "                 self.name = name\n",
    "                 self.symbol = symbol\n",
    "                 self.number = number\n",
    "\n",
    "     hydrogen = Element('Hydrogen', 'H', 1)\n"
   ]
  },
  {
   "cell_type": "code",
   "execution_count": null,
   "id": "bcbda71b",
   "metadata": {},
   "outputs": [],
   "source": [
    "5. Make a dictionary with these keys and values: 'name': 'Hydrogen', 'symbol': 'H', 'number': 1. Then, create an object called hydrogen from class Element using this dictionary."
   ]
  },
  {
   "cell_type": "code",
   "execution_count": null,
   "id": "85358818",
   "metadata": {},
   "outputs": [],
   "source": [
    "Answer:\n",
    "    el_dict = {'name': 'Hydrogen', 'symbol': 'H', 'number': 1}\n",
    "    hydrogen = Element(el_dict['name'], el_dict['symbol'], el_dict['number'])\n",
    "    \n",
    "    hydrogen.name\n"
   ]
  },
  {
   "cell_type": "code",
   "execution_count": null,
   "id": "194b94b6",
   "metadata": {},
   "outputs": [],
   "source": [
    "6. For the Element class, define a method called dump() that prints the values of the object’s attributes (name, symbol, and number). Create the hydrogen object from this new definition and use dump() to print its attributes."
   ]
  },
  {
   "cell_type": "code",
   "execution_count": null,
   "id": "f60f36b8",
   "metadata": {},
   "outputs": [],
   "source": [
    "Answer:\n",
    "     class Element:\n",
    "         def __init__(self, name, symbol, number):\n",
    "            self.name = name\n",
    "            self.symbol = symbol\n",
    "            self.number = number\n",
    "         def dump(self):\n",
    "             print('name=%s, symbol=%s, number=%s' %\n",
    "                 (self.name, self.symbol, self.number))\n",
    "\n",
    "     hydrogen = Element(**el_dict)\n",
    "     hydrogen.dump()"
   ]
  },
  {
   "cell_type": "code",
   "execution_count": null,
   "id": "13278326",
   "metadata": {},
   "outputs": [],
   "source": [
    "7. Call print(hydrogen). In the definition of Element, change the name of method dump to __str__, create a new hydrogen object, and call print(hydrogen) again."
   ]
  },
  {
   "cell_type": "code",
   "execution_count": null,
   "id": "cd665b30",
   "metadata": {},
   "outputs": [],
   "source": [
    "Answer:\n",
    "    print(hydrogen)\n",
    "    \n",
    "    class Element:\n",
    "        def __init__(self, name, symbol, number):\n",
    "            self.name = name\n",
    "            self.symbol = symbol\n",
    "            self.number = number\n",
    "        def __str__(self):\n",
    "            return ('name=%s, symbol=%s, number=%s' %\n",
    "                (self.name, self.symbol, self.number))\n",
    "\n",
    "    hydrogen = Element(**el_dict)\n",
    "    print(hydrogen)"
   ]
  },
  {
   "cell_type": "code",
   "execution_count": null,
   "id": "f1f9ac9c",
   "metadata": {},
   "outputs": [],
   "source": [
    "8. Modify Element to make the attributes name, symbol, and number private. Define a getter property for each to return its value."
   ]
  },
  {
   "cell_type": "code",
   "execution_count": null,
   "id": "a91aa342",
   "metadata": {},
   "outputs": [],
   "source": [
    "Answer:\n",
    "    class Element:\n",
    "        def __init__(self, name, symbol, number):\n",
    "            self.__name = name\n",
    "            self.__symbol = symbol\n",
    "            self.__number = number\n",
    "        @property\n",
    "        def name(self):\n",
    "            return self.__name\n",
    "        @property\n",
    "        def symbol(self):\n",
    "            return self.__symbol\n",
    "        @property\n",
    "        def number(self):\n",
    "            return self.__number\n",
    "    hydrogen = Element('Hydrogen', 'H', 1)\n",
    "    hydrogen.name\n",
    "    hydrogen.symbol\n",
    "    hydrogen.number"
   ]
  },
  {
   "cell_type": "code",
   "execution_count": null,
   "id": "fe3e0db9",
   "metadata": {},
   "outputs": [],
   "source": [
    "9. Define three classes: Bear, Rabbit, and Octothorpe. For each, define only one method: eats(). This should return 'berries' (Bear), 'clover' (Rabbit), or 'campers' (Octothorpe). Create one object from each and print what it eats."
   ]
  },
  {
   "cell_type": "code",
   "execution_count": null,
   "id": "21a878e8",
   "metadata": {},
   "outputs": [],
   "source": [
    "Answer:\n",
    "    class Bear:\n",
    "        def eats(self):\n",
    "            return 'berries'\n",
    "    class Rabbit:\n",
    "        def eats(self):\n",
    "            return 'clover'\n",
    "    class Octothorpe:\n",
    "        def eats(self):\n",
    "            return 'campers'\n",
    "    b = Bear()\n",
    "    r = Rabbit()\n",
    "    o = Octothorpe()\n",
    "    print(b.eats())\n",
    "    print(r.eats())\n",
    "    print(o.eats())"
   ]
  },
  {
   "cell_type": "code",
   "execution_count": null,
   "id": "ad9d7f58",
   "metadata": {},
   "outputs": [],
   "source": [
    "10. Define these classes: Laser, Claw, and SmartPhone. Each has only one method: does(). This returns 'disintegrate' (Laser), 'crush' (Claw), or 'ring' (SmartPhone). Then, define the class Robot that has one instance (object) of each of these. Define a does() method for the Robot that prints what its component objects do."
   ]
  },
  {
   "cell_type": "code",
   "execution_count": null,
   "id": "33df2c1e",
   "metadata": {},
   "outputs": [],
   "source": [
    "Answer:\n",
    "     class Laser:\n",
    "        def does(self):\n",
    "            return 'disintegrate'\n",
    "    class Claw:\n",
    "        def does(self):\n",
    "            return 'crush'\n",
    "    class SmartPhone:\n",
    "        def does(self):\n",
    "            return 'ring'\n",
    "    class Robot:\n",
    "        def __init__(self):\n",
    "            self.laser = Laser()\n",
    "            self.claw = Claw()\n",
    "            self.smartphone = SmartPhone()\n",
    "        def does(self):\n",
    "            return '''I have many attachments:\n",
    "    My laser, to %s.\n",
    "    My claw, to %s.\n",
    "    My smartphone, to %s.''' % (\n",
    "        self.laser.does(),\n",
    "        self.claw.does(),\n",
    "        self.smartphone.does() )\n",
    "        \n",
    "    robbie = Robot()\n",
    "    print( robbie.does() )"
   ]
  }
 ],
 "metadata": {
  "kernelspec": {
   "display_name": "Python 3 (ipykernel)",
   "language": "python",
   "name": "python3"
  },
  "language_info": {
   "codemirror_mode": {
    "name": "ipython",
    "version": 3
   },
   "file_extension": ".py",
   "mimetype": "text/x-python",
   "name": "python",
   "nbconvert_exporter": "python",
   "pygments_lexer": "ipython3",
   "version": "3.9.7"
  }
 },
 "nbformat": 4,
 "nbformat_minor": 5
}
