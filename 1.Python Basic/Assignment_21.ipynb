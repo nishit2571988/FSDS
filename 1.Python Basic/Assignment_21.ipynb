{
 "cells": [
  {
   "cell_type": "code",
   "execution_count": null,
   "id": "f82d3586",
   "metadata": {},
   "outputs": [],
   "source": [
    "1. Add the current date to the text file today.txt as a string."
   ]
  },
  {
   "cell_type": "code",
   "execution_count": null,
   "id": "e7dff196",
   "metadata": {},
   "outputs": [],
   "source": [
    "Answer:\n",
    "import datetime\n",
    "\n",
    "with open(\"today.txt\",\"w+\") as file:\n",
    "    file.write(datetime.datetime.now().strftime(\"%d-%m-%Y\"))\n",
    "    file.close()"
   ]
  },
  {
   "cell_type": "code",
   "execution_count": null,
   "id": "7781e83a",
   "metadata": {},
   "outputs": [],
   "source": [
    "2. Read the text file today.txt into the string today_string"
   ]
  },
  {
   "cell_type": "code",
   "execution_count": null,
   "id": "cd256c74",
   "metadata": {},
   "outputs": [],
   "source": [
    "Answer:\n",
    "    with open(\"today.txt\") as file:\n",
    "    today_string=file.read()\n",
    "    print(today_string)"
   ]
  },
  {
   "cell_type": "code",
   "execution_count": null,
   "id": "e0ff1e6b",
   "metadata": {},
   "outputs": [],
   "source": [
    "3. Parse the date from today_string."
   ]
  },
  {
   "cell_type": "code",
   "execution_count": null,
   "id": "126ca38c",
   "metadata": {},
   "outputs": [],
   "source": [
    "Answer:\n",
    "    from datetime import datetime\n",
    "with open(\"today.txt\") as file:\n",
    "    today_string=file.read()\n",
    "    print(today_string)\n",
    "    date_time_obj = datetime.strptime(today_string, '%d-%m-%Y')\n",
    "    print(type(date_time_obj))"
   ]
  },
  {
   "cell_type": "code",
   "execution_count": null,
   "id": "cf77db27",
   "metadata": {},
   "outputs": [],
   "source": [
    "4. List the files in your current directory"
   ]
  },
  {
   "cell_type": "code",
   "execution_count": null,
   "id": "279e8eef",
   "metadata": {},
   "outputs": [],
   "source": [
    "Answer:\n",
    "import os\n",
    "path = os.getcwd()\n",
    "dir_list=os.listdir(path)\n",
    "print(dir_list)"
   ]
  },
  {
   "cell_type": "code",
   "execution_count": null,
   "id": "1ac3acdd",
   "metadata": {},
   "outputs": [],
   "source": [
    "5. Create a list of all of the files in your parent directory (minimum five files should be available)."
   ]
  },
  {
   "cell_type": "code",
   "execution_count": null,
   "id": "fef0513a",
   "metadata": {},
   "outputs": [],
   "source": [
    "Answer:\n",
    "from pathlib import Path\n",
    "import os\n",
    "path = Path(os.getcwd())\n",
    "dir_list=os.listdir(path.parent)\n",
    "    "
   ]
  },
  {
   "cell_type": "code",
   "execution_count": null,
   "id": "504cd147",
   "metadata": {},
   "outputs": [],
   "source": [
    "6. Use multiprocessing to create three separate processes. Make each one wait a random number of seconds between one and five, print the current time, and then exit."
   ]
  },
  {
   "cell_type": "code",
   "execution_count": 77,
   "id": "5750fcd4",
   "metadata": {},
   "outputs": [],
   "source": [
    "from multiprocessing import Process\n",
    "import time\n",
    "\n",
    "def fun(val):\n",
    "    time.sleep(val)\n",
    "    print(time.ctime())\n",
    "\n",
    "def main():\n",
    "    p1 = Process(target=fun, args=(5, ))\n",
    "    p1.start()\n",
    "    p1.join()\n",
    "\n",
    "    p2 = Process(target=fun, args=(3, ))\n",
    "    p2.start()\n",
    "    p2.join()\n",
    "\n",
    "    p3 = Process(target=fun, args=(1, ))\n",
    "    p3.start()\n",
    "    p3.join()\n",
    "\n",
    "if __name__ == '__main__':\n",
    "    main()"
   ]
  },
  {
   "cell_type": "code",
   "execution_count": null,
   "id": "86d9903b",
   "metadata": {},
   "outputs": [],
   "source": [
    "7. Create a date object of your day of birth."
   ]
  },
  {
   "cell_type": "code",
   "execution_count": null,
   "id": "1f8b37ac",
   "metadata": {},
   "outputs": [],
   "source": [
    "Answer:\n",
    "from datetime import datetime\n",
    "birthDate=datetime.strptime('25-07-1988', '%d-%m-%Y')"
   ]
  },
  {
   "cell_type": "code",
   "execution_count": null,
   "id": "85af8602",
   "metadata": {},
   "outputs": [],
   "source": [
    "8. What day of the week was your day of birth?"
   ]
  },
  {
   "cell_type": "code",
   "execution_count": null,
   "id": "bd864111",
   "metadata": {},
   "outputs": [],
   "source": [
    "Answer:\n",
    "from datetime import datetime\n",
    "birthDate=datetime.strptime('25-07-1988', '%d-%m-%Y')\n",
    "print(birthDate.weekday())"
   ]
  },
  {
   "cell_type": "code",
   "execution_count": null,
   "id": "b69cd1e4",
   "metadata": {},
   "outputs": [],
   "source": [
    "9. When will you be (or when were you) 10,000 days old?"
   ]
  },
  {
   "cell_type": "code",
   "execution_count": null,
   "id": "20bdff0b",
   "metadata": {},
   "outputs": [],
   "source": [
    "Answer:\n",
    "import datetime\n",
    "birthDate=datetime.datetime.strptime('25-07-1988', '%d-%m-%Y')\n",
    "end_date = birthDate + datetime.timedelta(days=10000)\n",
    "print(end_date.date())    "
   ]
  }
 ],
 "metadata": {
  "kernelspec": {
   "display_name": "Python 3 (ipykernel)",
   "language": "python",
   "name": "python3"
  },
  "language_info": {
   "codemirror_mode": {
    "name": "ipython",
    "version": 3
   },
   "file_extension": ".py",
   "mimetype": "text/x-python",
   "name": "python",
   "nbconvert_exporter": "python",
   "pygments_lexer": "ipython3",
   "version": "3.9.7"
  }
 },
 "nbformat": 4,
 "nbformat_minor": 5
}
