{
 "cells": [
  {
   "cell_type": "code",
   "execution_count": null,
   "id": "f82d3586",
   "metadata": {},
   "outputs": [],
   "source": [
    "1. Add the current date to the text file today.txt as a string."
   ]
  },
  {
   "cell_type": "code",
   "execution_count": null,
   "id": "7781e83a",
   "metadata": {},
   "outputs": [],
   "source": [
    "2. Read the text file today.txt into the string today_string"
   ]
  },
  {
   "cell_type": "code",
   "execution_count": null,
   "id": "e0ff1e6b",
   "metadata": {},
   "outputs": [],
   "source": [
    "3. Parse the date from today_string."
   ]
  },
  {
   "cell_type": "code",
   "execution_count": null,
   "id": "cf77db27",
   "metadata": {},
   "outputs": [],
   "source": [
    "4. List the files in your current directory"
   ]
  },
  {
   "cell_type": "code",
   "execution_count": null,
   "id": "1ac3acdd",
   "metadata": {},
   "outputs": [],
   "source": [
    "5. Create a list of all of the files in your parent directory (minimum five files should be available)."
   ]
  },
  {
   "cell_type": "code",
   "execution_count": null,
   "id": "504cd147",
   "metadata": {},
   "outputs": [],
   "source": [
    "6. Use multiprocessing to create three separate processes. Make each one wait a random number of seconds between one and five, print the current time, and then exit."
   ]
  },
  {
   "cell_type": "code",
   "execution_count": null,
   "id": "86d9903b",
   "metadata": {},
   "outputs": [],
   "source": [
    "7. Create a date object of your day of birth."
   ]
  },
  {
   "cell_type": "code",
   "execution_count": null,
   "id": "85af8602",
   "metadata": {},
   "outputs": [],
   "source": [
    "8. What day of the week was your day of birth?"
   ]
  },
  {
   "cell_type": "code",
   "execution_count": null,
   "id": "b69cd1e4",
   "metadata": {},
   "outputs": [],
   "source": [
    "9. When will you be (or when were you) 10,000 days old?"
   ]
  }
 ],
 "metadata": {
  "kernelspec": {
   "display_name": "Python 3 (ipykernel)",
   "language": "python",
   "name": "python3"
  },
  "language_info": {
   "codemirror_mode": {
    "name": "ipython",
    "version": 3
   },
   "file_extension": ".py",
   "mimetype": "text/x-python",
   "name": "python",
   "nbconvert_exporter": "python",
   "pygments_lexer": "ipython3",
   "version": "3.9.7"
  }
 },
 "nbformat": 4,
 "nbformat_minor": 5
}
