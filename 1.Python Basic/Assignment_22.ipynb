{
 "cells": [
  {
   "cell_type": "code",
   "execution_count": null,
   "id": "f82d3586",
   "metadata": {},
   "outputs": [],
   "source": [
    "1. What is the result of the code, and explain?\n",
    "\n",
    "\n",
    "X = 'iNeuron'\n",
    "def func():\n",
    "    print(X)\n",
    "   \n",
    "func()\n",
    "\n"
   ]
  },
  {
   "cell_type": "code",
   "execution_count": null,
   "id": "43ba20d7",
   "metadata": {},
   "outputs": [],
   "source": [
    "Answer:\n",
    "    it will return iNeuron"
   ]
  },
  {
   "cell_type": "code",
   "execution_count": null,
   "id": "39173b70",
   "metadata": {},
   "outputs": [],
   "source": [
    "2. What is the result of the code, and explain?\n",
    "\n",
    "\n",
    "X = 'iNeuron'\n",
    "def func():\n",
    "    X = 'NI!' \n",
    "    \n",
    "func()\n",
    "print(X)\n",
    "\n"
   ]
  },
  {
   "cell_type": "code",
   "execution_count": null,
   "id": "a51a2a4e",
   "metadata": {},
   "outputs": [],
   "source": [
    "Answer:\n",
    "     it will return iNeuron and print x is point to global x"
   ]
  },
  {
   "cell_type": "code",
   "execution_count": null,
   "id": "6a5cb453",
   "metadata": {},
   "outputs": [],
   "source": [
    "\n",
    "3. What does this code print, and why?\n",
    "\n",
    "\n",
    ">>> X = 'iNeuron'\n",
    ">>> def func():\n",
    "X = 'NI'\n",
    "print(X)\n",
    "\n",
    "\n",
    ">>> func()\n",
    ">>> print(X)\n"
   ]
  },
  {
   "cell_type": "code",
   "execution_count": null,
   "id": "1dce3c69",
   "metadata": {},
   "outputs": [],
   "source": [
    "Answer:\n",
    "    it will retunr below output\n",
    "    NI\n",
    "    iNeuron"
   ]
  },
  {
   "cell_type": "code",
   "execution_count": null,
   "id": "7f2c092a",
   "metadata": {},
   "outputs": [],
   "source": [
    "\n",
    "4. What output does this code produce? Why?\n",
    "\n",
    "\n",
    ">>> X = 'iNeuron'\n",
    ">>> def func():\n",
    "global X\n",
    "X = 'NI'\n",
    "\n",
    "\n",
    ">>> func()\n",
    ">>> print(X)\n"
   ]
  },
  {
   "cell_type": "code",
   "execution_count": null,
   "id": "e10ea82f",
   "metadata": {},
   "outputs": [],
   "source": [
    "Answer:\n",
    "    it will return below output because we have aasign x as global in function\n",
    "    NI\n",
    "    "
   ]
  },
  {
   "cell_type": "code",
   "execution_count": null,
   "id": "330f8a57",
   "metadata": {},
   "outputs": [],
   "source": [
    "5. What about this code—what’s the output, and why?\n",
    "\n",
    "\n",
    "X = 'iNeuron'\n",
    "def func():\n",
    "    X = 'NI'\n",
    "def nested():\n",
    "    print(X)\n",
    "    nested()\n",
    "\n",
    "\n",
    "func()\n",
    "X\n"
   ]
  },
  {
   "cell_type": "code",
   "execution_count": null,
   "id": "550ecbe5",
   "metadata": {},
   "outputs": [],
   "source": [
    "Answer:\n",
    "    It will return  'iNeuron' because X is a global variable\n",
    "     "
   ]
  },
  {
   "cell_type": "code",
   "execution_count": null,
   "id": "7de74994",
   "metadata": {},
   "outputs": [],
   "source": [
    "\n",
    "\n",
    "6. How about this code: what is its output in Python 3, and explain?\n",
    "\n",
    "\n",
    "def func():\n",
    "    X = 'NI'\n",
    "def nested():\n",
    "    nonlocal X\n",
    "    \n",
    "X = 'Spam'\n",
    "    \n",
    "nested()\n",
    "print(X)\n",
    "\n",
    "\n",
    "func()\n",
    "\n"
   ]
  },
  {
   "cell_type": "code",
   "execution_count": null,
   "id": "eca2d98e",
   "metadata": {},
   "outputs": [],
   "source": [
    "Answer:\n",
    "    it will give syntax error"
   ]
  },
  {
   "cell_type": "code",
   "execution_count": null,
   "id": "468c1fd7",
   "metadata": {},
   "outputs": [],
   "source": []
  }
 ],
 "metadata": {
  "kernelspec": {
   "display_name": "Python 3 (ipykernel)",
   "language": "python",
   "name": "python3"
  },
  "language_info": {
   "codemirror_mode": {
    "name": "ipython",
    "version": 3
   },
   "file_extension": ".py",
   "mimetype": "text/x-python",
   "name": "python",
   "nbconvert_exporter": "python",
   "pygments_lexer": "ipython3",
   "version": "3.9.7"
  }
 },
 "nbformat": 4,
 "nbformat_minor": 5
}
