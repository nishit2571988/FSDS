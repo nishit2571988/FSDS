{
 "cells": [
  {
   "cell_type": "code",
   "execution_count": null,
   "id": "f82d3586",
   "metadata": {},
   "outputs": [],
   "source": [
    "1. What advantages do Excel spreadsheets have over CSV spreadsheets?"
   ]
  },
  {
   "cell_type": "code",
   "execution_count": null,
   "id": "85246c72",
   "metadata": {},
   "outputs": [],
   "source": [
    "Answer:\n",
    "    Excel is more superior when compared with the CSV file format; thus, CSV consumes less amount of file size when the user is importing data; it is a much faster format compared to excel. CSV does not manipulate data and stores it as-is. Excel also allows the user the add-in feature."
   ]
  },
  {
   "cell_type": "code",
   "execution_count": null,
   "id": "a3838783",
   "metadata": {},
   "outputs": [],
   "source": [
    "2.What do you pass to csv.reader() and csv.writer() to create reader and writer objects?"
   ]
  },
  {
   "cell_type": "code",
   "execution_count": null,
   "id": "10fbb136",
   "metadata": {},
   "outputs": [],
   "source": [
    "Answer:\n",
    "     import csv\n",
    "        with open('test.csv', 'r',) as file:\n",
    "        reader = csv.reader(file, delimiter = '\\t')\n",
    "    \n",
    "        with open('test.csv', 'w', newline='') as file:\n",
    "        writer = csv.writer(file)"
   ]
  },
  {
   "cell_type": "code",
   "execution_count": null,
   "id": "d5f861a8",
   "metadata": {},
   "outputs": [],
   "source": [
    "3. What modes do File objects for reader and writer objects need to be opened in?"
   ]
  },
  {
   "cell_type": "code",
   "execution_count": null,
   "id": "3a405f29",
   "metadata": {},
   "outputs": [],
   "source": [
    "Answer:\n",
    "    ‘r’=Open a file for reading. (default)\n",
    "    ‘w’=Open a file for writing. Creates a new file if it does not exist or truncates the file if it exists.\n",
    "    ‘x’=Open a file for exclusive creation. If the file already exists, the operation fails.\n",
    "    ‘a’=Open for appending at the end of the file without truncating it. Creates a new file if it does not exist.\n",
    "    ‘t’=Open in text mode. (default)\n",
    "    ‘b’ =Open in binary mode."
   ]
  },
  {
   "cell_type": "code",
   "execution_count": null,
   "id": "115bb4bb",
   "metadata": {},
   "outputs": [],
   "source": [
    "4. What method takes a list argument and writes it to a CSV file?"
   ]
  },
  {
   "cell_type": "code",
   "execution_count": null,
   "id": "3535d7bf",
   "metadata": {},
   "outputs": [],
   "source": [
    "Answer:\n",
    "    writerow\n",
    "    writerows"
   ]
  },
  {
   "cell_type": "code",
   "execution_count": null,
   "id": "d9f9e011",
   "metadata": {},
   "outputs": [],
   "source": [
    "5. What do the keyword arguments delimiter and line terminator do?"
   ]
  },
  {
   "cell_type": "code",
   "execution_count": null,
   "id": "e6e19e7b",
   "metadata": {},
   "outputs": [],
   "source": [
    "Answer:\n",
    "    The delimiter is the character that appears between cells on a row. By default, the delimiter for a CSV file is a comma\n",
    "    The line terminator is the character that comes at the end of a row. By default, the line terminator is a newline. You can change characters to different values by using the delimiter and lineterminator keyword arguments with csv.writer()\n",
    "    "
   ]
  },
  {
   "cell_type": "code",
   "execution_count": null,
   "id": "9a605b86",
   "metadata": {},
   "outputs": [],
   "source": [
    "6. What function takes a string of JSON data and returns a Python data structure?"
   ]
  },
  {
   "cell_type": "code",
   "execution_count": null,
   "id": "e2c3bd4b",
   "metadata": {},
   "outputs": [],
   "source": [
    "Answer:\n",
    "    json.dumps"
   ]
  },
  {
   "cell_type": "code",
   "execution_count": null,
   "id": "dd2b82f6",
   "metadata": {},
   "outputs": [],
   "source": [
    "7. What function takes a Python data structure and returns a string of JSON data?"
   ]
  },
  {
   "cell_type": "code",
   "execution_count": null,
   "id": "da4072e7",
   "metadata": {},
   "outputs": [],
   "source": [
    "Answer:\n",
    "    import json \n",
    "    from json.decoder import JSONDecoder\n",
    "    colour_string = '{ \"colour\": [\"red\", \"yellow\"]}'\n",
    "    JSONDecoder().decode(colour_string)) "
   ]
  }
 ],
 "metadata": {
  "kernelspec": {
   "display_name": "Python 3 (ipykernel)",
   "language": "python",
   "name": "python3"
  },
  "language_info": {
   "codemirror_mode": {
    "name": "ipython",
    "version": 3
   },
   "file_extension": ".py",
   "mimetype": "text/x-python",
   "name": "python",
   "nbconvert_exporter": "python",
   "pygments_lexer": "ipython3",
   "version": "3.9.7"
  }
 },
 "nbformat": 4,
 "nbformat_minor": 5
}
