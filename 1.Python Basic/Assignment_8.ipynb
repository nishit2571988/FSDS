{
 "cells": [
  {
   "cell_type": "code",
   "execution_count": null,
   "id": "f82d3586",
   "metadata": {},
   "outputs": [],
   "source": [
    "1. Is the Python Standard Library included with PyInputPlus?\n",
    "Answer:\n",
    "    PyInputPlus is not a part of the Python Standard Library"
   ]
  },
  {
   "cell_type": "code",
   "execution_count": null,
   "id": "40b61db6",
   "metadata": {},
   "outputs": [],
   "source": [
    "2. Why is PyInputPlus commonly imported with import pyinputplus as pypi?\n",
    "Answer:\n",
    "    The as pyip code in the import statement saves us from typing pyinputplus each time we want to call a PyInputPlus function. \n",
    "    Instead we can use the shorter pyip name"
   ]
  },
  {
   "cell_type": "code",
   "execution_count": null,
   "id": "eab283d5",
   "metadata": {},
   "outputs": [],
   "source": [
    "3. How do you distinguish between inputInt() and inputFloat()?\n",
    "Answer:\n",
    "    inputInt() accept int number\n",
    "    inputFloat() accept float number"
   ]
  },
  {
   "cell_type": "code",
   "execution_count": null,
   "id": "7227c07e",
   "metadata": {},
   "outputs": [],
   "source": [
    "4. Using PyInputPlus, how do you ensure that the user enters a whole number between 0 and 99?\n",
    "Answer:\n",
    "     pyip.inputNum('>', min=0, lessThan=100)"
   ]
  },
  {
   "cell_type": "code",
   "execution_count": null,
   "id": "c58527a6",
   "metadata": {},
   "outputs": [],
   "source": [
    "5. What is transferred to the keyword arguments allowRegexes and blockRegexes?\n",
    "Answer:\n",
    "    regularr expression string stransferred to the keyword arguments allowRegexes and blockRegexes."
   ]
  },
  {
   "cell_type": "code",
   "execution_count": null,
   "id": "38bdb229",
   "metadata": {},
   "outputs": [],
   "source": [
    "6. If a blank input is entered three times, what does inputStr(limit=3) do?\n",
    "Answer:\n",
    "    It will raise an RetryLimitException exception\n",
    "    "
   ]
  },
  {
   "cell_type": "code",
   "execution_count": null,
   "id": "bf2c5cf4",
   "metadata": {},
   "outputs": [],
   "source": [
    "7. If blank input is entered three times, what does inputStr(limit=3, default='hello') do?\n",
    "Answer:\n",
    "    inputStr(limit=3, default='hello') \n",
    "    limit means maximum number of tries the user has for entering a valid input\n",
    "    default parameter is used to set the default value if time runs out or the number of tries exceeds\n",
    "    "
   ]
  }
 ],
 "metadata": {
  "kernelspec": {
   "display_name": "Python 3 (ipykernel)",
   "language": "python",
   "name": "python3"
  },
  "language_info": {
   "codemirror_mode": {
    "name": "ipython",
    "version": 3
   },
   "file_extension": ".py",
   "mimetype": "text/x-python",
   "name": "python",
   "nbconvert_exporter": "python",
   "pygments_lexer": "ipython3",
   "version": "3.9.7"
  }
 },
 "nbformat": 4,
 "nbformat_minor": 5
}
