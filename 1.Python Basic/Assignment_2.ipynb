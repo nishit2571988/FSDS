{
 "cells": [
  {
   "cell_type": "code",
   "execution_count": null,
   "id": "a7099a43",
   "metadata": {},
   "outputs": [],
   "source": [
    "1.What are the two values of the Boolean data type? How do you write them?\n",
    "\n",
    "Answer\n",
    "Boolean data type values are True and False\n",
    "a=True\n"
   ]
  },
  {
   "cell_type": "code",
   "execution_count": null,
   "id": "0b2a2b75",
   "metadata": {},
   "outputs": [],
   "source": [
    "2. What are the three different types of Boolean operators?\n",
    "\n",
    "Answer\n",
    "\n",
    "and or not\n"
   ]
  },
  {
   "cell_type": "code",
   "execution_count": null,
   "id": "6c09ced3",
   "metadata": {},
   "outputs": [],
   "source": [
    "3. Make a list of each Boolean operator&#39;s truth tables (i.e. every possible combination of Boolean\n",
    "values for the operator and what it evaluate ).\n",
    "\n",
    "Answer\n",
    "\n",
    "X      y      X and Y\n",
    "False  False  False\n",
    "False  True   False\n",
    "True   False  False\n",
    "True   True   True\n",
    "\n",
    "X      y      X or Y\n",
    "False  False  False\n",
    "False  True   True\n",
    "True   False  True\n",
    "True   True   True\n",
    "\n",
    "not x     Returns\n",
    "not True  False\n",
    "not False True\n",
    " \n",
    "\n"
   ]
  },
  {
   "cell_type": "code",
   "execution_count": null,
   "id": "5acc027f",
   "metadata": {},
   "outputs": [],
   "source": [
    "4. What are the values of the following expressions?\n",
    "(5 &gt; 4) and (3 == 5)\n",
    "not (5 &gt; 4)\n",
    "(5 &gt; 4) or (3 == 5)\n",
    "not ((5 &gt; 4) or (3 == 5))\n",
    "(True and True) and (True == False)\n",
    "(not False) or (not True)\n",
    "\n",
    "Answer\n",
    "False\n",
    "False\n",
    "True\n",
    "False\n",
    "False\n",
    "True\n",
    "\n"
   ]
  },
  {
   "cell_type": "code",
   "execution_count": null,
   "id": "7eb0aefb",
   "metadata": {},
   "outputs": [],
   "source": [
    "5. What are the six comparison operators?\n",
    "\n",
    "Answer\n",
    "\n",
    "==\n",
    "!=\n",
    ">=\n",
    "<=\n",
    ">\n",
    "<"
   ]
  },
  {
   "cell_type": "code",
   "execution_count": null,
   "id": "09a8a549",
   "metadata": {},
   "outputs": [],
   "source": [
    "6. How do you tell the difference between the equal to and assignment operators?Describe a\n",
    "condition and when you would use one.\n",
    "\n",
    "Answer\n",
    "\n",
    "== is the equal operator to operator that compares two values and evaluates to a Boolean, \n",
    "= is the assignment operator that stores a value in a variable.\n",
    "= assignemnet operator\n",
    "== equal to operator\n",
    "\n",
    "when we decclare vairable and assign value then use assignment operator\n",
    "a=1\n",
    "\n",
    "when we check condition then we use equalto opertor like follow\n",
    "\n",
    "if a==1:\n",
    "    print(\"valid\")"
   ]
  },
  {
   "cell_type": "code",
   "execution_count": null,
   "id": "01fe6004",
   "metadata": {},
   "outputs": [],
   "source": [
    "7. Identify the three blocks in this code:\n",
    "spam = 0\n",
    "if spam == 10:\n",
    "print(\"eggs\")\n",
    "if spam &gt; 5:\n",
    "print(\"bacon\")\n",
    "else:\n",
    "print(\"ham\")\n",
    "print(\"spam\")\n",
    "print(\"spam\")\n",
    "      \n",
    "Answer\n",
    "#First Block\n",
    "if spam == 10:\n",
    "    print(\"eggs\")\n",
    "    \n",
    "#Second Block\n",
    "if spam > 5:\n",
    "    print(\"bacon\")\n",
    "else:\n",
    "    print(\"ham\")\n",
    "    \n",
    "#Third Block    \n",
    "print(\"spam\")\n",
    "print(\"spam\")"
   ]
  },
  {
   "cell_type": "code",
   "execution_count": 24,
   "id": "4a852a1a",
   "metadata": {},
   "outputs": [],
   "source": [
    "8. Write code that prints Hello if 1 is stored in spam, prints Howdy if 2 is stored in spam, and prints\n",
    "Greetings! if anything else is stored in spam.\n",
    "\n",
    "Answer\n",
    "spam=1\n",
    "if spam == 1:\n",
    "    print(\"Hello\")\n",
    "elif spam==2:\n",
    "    print(\"Howdy\")\n",
    "else:\n",
    "    print(\"Greetings!\")\n",
    "    "
   ]
  },
  {
   "cell_type": "code",
   "execution_count": null,
   "id": "79507340",
   "metadata": {},
   "outputs": [],
   "source": [
    "9.If your programme is stuck in an endless loop, what keys you’ll press?\n",
    "ANswer\n",
    "\n",
    "ctrl+c"
   ]
  },
  {
   "cell_type": "code",
   "execution_count": null,
   "id": "0319832c",
   "metadata": {},
   "outputs": [],
   "source": [
    "10. How can you tell the difference between break and continue?\n",
    "Answer\n",
    "\n",
    "break statement stops the loop\n",
    "continue statement will move the execution to the start of the loop."
   ]
  },
  {
   "cell_type": "code",
   "execution_count": null,
   "id": "6e934ba8",
   "metadata": {},
   "outputs": [],
   "source": [
    "11. In a for loop, what is the difference between range(10), range(0, 10), and range(0, 10, 1)?\n",
    "Answer\n",
    "range(stop)\n",
    "range(10) ranges from 0 up to (but not including) 10\n",
    "\n",
    "range(start,stop)\n",
    "range(0,10) explicitly tells the loop to start at 0 and stop 10\n",
    "\n",
    "range(start,stop,step)\n",
    "range(0,10,1)  loop star from 0 and stop 10 to increase the variable by 1 on each iteration.\n"
   ]
  },
  {
   "cell_type": "code",
   "execution_count": null,
   "id": "c8cfc383",
   "metadata": {},
   "outputs": [],
   "source": [
    "12. Write a short program that prints the numbers 1 to 10 using a for loop. Then write an equivalent\n",
    "program that prints the numbers 1 to 10 using a while loop.\n",
    "Answer\n",
    "for i in range(1,11):\n",
    "    print(i)\n",
    "\n",
    "i = 1\n",
    "while(i<=10):\n",
    "    print(i)\n",
    "    i += 1\n"
   ]
  },
  {
   "cell_type": "code",
   "execution_count": 32,
   "id": "d0f1109e",
   "metadata": {},
   "outputs": [],
   "source": [
    "13. If you had a function named bacon() inside a module named spam, how would you call it after\n",
    "importing spam?\n",
    "Answer\n",
    " spam.bacon()"
   ]
  }
 ],
 "metadata": {
  "kernelspec": {
   "display_name": "Python 3 (ipykernel)",
   "language": "python",
   "name": "python3"
  },
  "language_info": {
   "codemirror_mode": {
    "name": "ipython",
    "version": 3
   },
   "file_extension": ".py",
   "mimetype": "text/x-python",
   "name": "python",
   "nbconvert_exporter": "python",
   "pygments_lexer": "ipython3",
   "version": "3.9.7"
  }
 },
 "nbformat": 4,
 "nbformat_minor": 5
}
