{
 "cells": [
  {
   "cell_type": "code",
   "execution_count": null,
   "id": "f82d3586",
   "metadata": {},
   "outputs": [],
   "source": [
    "1. What does RGBA stand for?"
   ]
  },
  {
   "cell_type": "code",
   "execution_count": null,
   "id": "a82d9f64",
   "metadata": {},
   "outputs": [],
   "source": [
    "Answer:\n",
    "    RGBA(Red-Green-Blue-Alpha)"
   ]
  },
  {
   "cell_type": "code",
   "execution_count": null,
   "id": "c83544de",
   "metadata": {},
   "outputs": [],
   "source": [
    "2. From the Pillow module, how do you get the RGBA value of any images?"
   ]
  },
  {
   "cell_type": "code",
   "execution_count": null,
   "id": "97c14eb8",
   "metadata": {},
   "outputs": [],
   "source": [
    "Answer:\n",
    "    from PIL import Image\n",
    "    img = Image.open(‘image.png’)\n",
    "    rgba = img.convert(“RGBA”)\n",
    "    datas = rgba.getdata()"
   ]
  },
  {
   "cell_type": "code",
   "execution_count": null,
   "id": "4bbbe405",
   "metadata": {},
   "outputs": [],
   "source": [
    "3. What is a box tuple, and how does it work?"
   ]
  },
  {
   "cell_type": "code",
   "execution_count": null,
   "id": "ab57a196",
   "metadata": {},
   "outputs": [],
   "source": [
    "Answer:\n",
    "    Many of Pillow functions and methods take a box tuple argument. \n",
    "    This means Pillow is expecting a tuple of four integer coordinates that represent a rectangular region in an image. \n",
    "    The four integers are, in order, as follows: Left The x-coordinate of the leftmost edge of the box."
   ]
  },
  {
   "cell_type": "code",
   "execution_count": null,
   "id": "28722f2a",
   "metadata": {},
   "outputs": [],
   "source": [
    "4. Use your image and load in notebook then, How can you find out the width and height of an Image object?"
   ]
  },
  {
   "cell_type": "code",
   "execution_count": null,
   "id": "d6c2220b",
   "metadata": {},
   "outputs": [],
   "source": [
    "Answer:\n",
    "    from PIL import Image\n",
    "    img = Image.open(\"test.png\")\n",
    "    width = img.width\n",
    "    height = img.height"
   ]
  },
  {
   "cell_type": "code",
   "execution_count": null,
   "id": "6ada6e65",
   "metadata": {},
   "outputs": [],
   "source": [
    "5. What method would you call to get Image object for a 100×100 image, excluding the lower-left quarter of it?"
   ]
  },
  {
   "cell_type": "code",
   "execution_count": null,
   "id": "d9942e8b",
   "metadata": {},
   "outputs": [],
   "source": [
    "Answer:\n",
    "    from PIL import Image\n",
    "    import numpy as np       \n",
    "    img = Image.open(r\"test.png\").convert('RGB')\n",
    "    img_arr = np.array(img)\n",
    "    img_arr[0 : 100, 0 : 100] = (0, 0, 0)\n",
    "    img = Image.fromarray(img_arr)\n",
    "    img.show()"
   ]
  },
  {
   "cell_type": "code",
   "execution_count": null,
   "id": "2fe47b50",
   "metadata": {},
   "outputs": [],
   "source": [
    "6. After making changes to an Image object, how could you save it as an image file?"
   ]
  },
  {
   "cell_type": "code",
   "execution_count": null,
   "id": "fe5cb8a9",
   "metadata": {},
   "outputs": [],
   "source": [
    "Answer:\n",
    "    from PIL import Image \n",
    "    import PIL \n",
    "    im1 = Image.open(r\"test.png\") \n",
    "    im1 = im1.save(\"geeks.jpg\")"
   ]
  },
  {
   "cell_type": "code",
   "execution_count": null,
   "id": "ff8a2b73",
   "metadata": {},
   "outputs": [],
   "source": [
    "7. What module contains Pillow’s shape-drawing code?"
   ]
  },
  {
   "cell_type": "code",
   "execution_count": null,
   "id": "2d4a4025",
   "metadata": {},
   "outputs": [],
   "source": [
    "Answer:\n",
    "    from PIL import Image, ImageDraw\n",
    "    \n",
    "    ImageDraw modile contains  Pillow’s shape-drawing code"
   ]
  },
  {
   "cell_type": "code",
   "execution_count": null,
   "id": "c37190c0",
   "metadata": {},
   "outputs": [],
   "source": [
    "8. Image objects do not have drawing methods. What kind of object does? How do you get this kind of object?"
   ]
  },
  {
   "cell_type": "code",
   "execution_count": null,
   "id": "1d0e3837",
   "metadata": {},
   "outputs": [],
   "source": [
    "Answer:\n",
    "    from PIL import Image, ImageDraw\n",
    "    img = Image.open('test.png')\n",
    "    draw = ImageDraw.Draw(img)\n",
    "    draw.rectangle(xy = (50, 50, 150, 150),\n",
    "               fill = (0, 127, 0),\n",
    "               outline = (255, 255, 255),\n",
    "               width = 5)\n",
    "  \n",
    "    img.show()"
   ]
  }
 ],
 "metadata": {
  "kernelspec": {
   "display_name": "Python 3 (ipykernel)",
   "language": "python",
   "name": "python3"
  },
  "language_info": {
   "codemirror_mode": {
    "name": "ipython",
    "version": 3
   },
   "file_extension": ".py",
   "mimetype": "text/x-python",
   "name": "python",
   "nbconvert_exporter": "python",
   "pygments_lexer": "ipython3",
   "version": "3.9.7"
  }
 },
 "nbformat": 4,
 "nbformat_minor": 5
}
