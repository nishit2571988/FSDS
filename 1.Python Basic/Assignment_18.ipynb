{
 "cells": [
  {
   "cell_type": "code",
   "execution_count": null,
   "id": "f82d3586",
   "metadata": {},
   "outputs": [],
   "source": [
    "1. Create a zoo.py file first. Define the hours() function, which prints the string 'Open 9-5 daily'. Then, use the interactive interpreter to import the zoo module and call its hours() function."
   ]
  },
  {
   "cell_type": "code",
   "execution_count": null,
   "id": "b05d1ca8",
   "metadata": {},
   "outputs": [],
   "source": [
    "Answer:\n",
    "    # Zoo.py file\n",
    "    def hours():\n",
    "        print('Open 9-5 daily')\n",
    "        \n",
    "    #now lets import\n",
    "    import zoo\n",
    "    zoo.hours()"
   ]
  },
  {
   "cell_type": "code",
   "execution_count": null,
   "id": "73052303",
   "metadata": {},
   "outputs": [],
   "source": [
    "2. In the interactive interpreter, import the zoo module as menagerie and call its hours() function."
   ]
  },
  {
   "cell_type": "code",
   "execution_count": null,
   "id": "1e40834b",
   "metadata": {},
   "outputs": [],
   "source": [
    "Answer:\n",
    "    import zoo as menagerie\n",
    "    menagerie.hours()"
   ]
  },
  {
   "cell_type": "code",
   "execution_count": null,
   "id": "a7038d85",
   "metadata": {},
   "outputs": [],
   "source": [
    "3. Using the interpreter, explicitly import and call the hours() function from zoo."
   ]
  },
  {
   "cell_type": "code",
   "execution_count": null,
   "id": "eaff5de6",
   "metadata": {},
   "outputs": [],
   "source": [
    "Answer:\n",
    "    from zoo import hours\n",
    "    hours()"
   ]
  },
  {
   "cell_type": "code",
   "execution_count": null,
   "id": "6db58e73",
   "metadata": {},
   "outputs": [],
   "source": [
    "4. Import the hours() function as info and call it."
   ]
  },
  {
   "cell_type": "code",
   "execution_count": null,
   "id": "ed566e73",
   "metadata": {},
   "outputs": [],
   "source": [
    "Answer:\n",
    "    from zoo import hoursas info\n",
    "    info()"
   ]
  },
  {
   "cell_type": "code",
   "execution_count": null,
   "id": "e3afdb5f",
   "metadata": {},
   "outputs": [],
   "source": [
    "5. Create a plain dictionary with the key-value pairs 'a': 1, 'b': 2, and 'c': 3, and print it out."
   ]
  },
  {
   "cell_type": "code",
   "execution_count": null,
   "id": "4b4ee4d4",
   "metadata": {},
   "outputs": [],
   "source": [
    "Answer:\n",
    "    plain = {'a': 1, 'b': 2, 'c': 3}\n",
    "    plain"
   ]
  },
  {
   "cell_type": "code",
   "execution_count": null,
   "id": "67e11c89",
   "metadata": {},
   "outputs": [],
   "source": [
    "6.Make an OrderedDict called fancy from the same pairs listed in 5 and print it. Did it print in the same order as plain?"
   ]
  },
  {
   "cell_type": "code",
   "execution_count": null,
   "id": "2dbff265",
   "metadata": {},
   "outputs": [],
   "source": [
    "Answer:\n",
    "    from collections import OrderedDict\n",
    "    fancy = OrderedDict([('a', 1), ('b', 2), ('c', 3)])\n",
    "    fancy"
   ]
  },
  {
   "cell_type": "code",
   "execution_count": null,
   "id": "5f45acee",
   "metadata": {},
   "outputs": [],
   "source": [
    "7. Make a default dictionary called dict_of_lists and pass it the argument list. Make the list dict_of_lists['a'] and append the value 'something for a' to it in one assignment. Print dict_of_lists['a']."
   ]
  },
  {
   "cell_type": "code",
   "execution_count": null,
   "id": "06e14451",
   "metadata": {},
   "outputs": [],
   "source": [
    "Answer:\n",
    "    from collections import defaultdict\n",
    "    dict_of_lists = defaultdict(list)\n",
    "    dict_of_lists['a'].append('something for a')\n",
    "    dict_of_lists['a']"
   ]
  }
 ],
 "metadata": {
  "kernelspec": {
   "display_name": "Python 3 (ipykernel)",
   "language": "python",
   "name": "python3"
  },
  "language_info": {
   "codemirror_mode": {
    "name": "ipython",
    "version": 3
   },
   "file_extension": ".py",
   "mimetype": "text/x-python",
   "name": "python",
   "nbconvert_exporter": "python",
   "pygments_lexer": "ipython3",
   "version": "3.9.7"
  }
 },
 "nbformat": 4,
 "nbformat_minor": 5
}
