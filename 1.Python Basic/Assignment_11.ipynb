{
 "cells": [
  {
   "cell_type": "code",
   "execution_count": null,
   "id": "f82d3586",
   "metadata": {},
   "outputs": [],
   "source": [
    "1. Create an assert statement that throws an AssertionError if the variable spam is a negative integer."
   ]
  },
  {
   "cell_type": "code",
   "execution_count": null,
   "id": "4540c137",
   "metadata": {},
   "outputs": [],
   "source": [
    "Answer:\n",
    "    assert spam == -10, 'The spam variable is negative 10.'"
   ]
  },
  {
   "cell_type": "code",
   "execution_count": null,
   "id": "5fe2ff0d",
   "metadata": {},
   "outputs": [],
   "source": [
    "2. Write an assert statement that triggers an AssertionError if the variables eggs and bacon contain strings that are the same as each other, even if their cases are different (that is, 'hello' and 'hello' are considered the same, and 'goodbye' and 'GOODbye' are also considered the same)."
   ]
  },
  {
   "cell_type": "code",
   "execution_count": null,
   "id": "cb102d72",
   "metadata": {},
   "outputs": [],
   "source": [
    "Answer:\n",
    "    assert eggs.lower() != bacon.lower(), 'The eggs and bacon variables are the same!' \n",
    " or assert eggs.upper() != bacon.upper(), 'The eggs and bacon variables are the same!'"
   ]
  },
  {
   "cell_type": "code",
   "execution_count": null,
   "id": "3b1144c1",
   "metadata": {},
   "outputs": [],
   "source": [
    "3. Create an assert statement that throws an AssertionError every time."
   ]
  },
  {
   "cell_type": "code",
   "execution_count": null,
   "id": "b332acd6",
   "metadata": {},
   "outputs": [],
   "source": [
    "Answer:\n",
    "    assert False, 'This assertion always triggers.'"
   ]
  },
  {
   "cell_type": "code",
   "execution_count": null,
   "id": "d336ab60",
   "metadata": {},
   "outputs": [],
   "source": [
    "4. What are the two lines that must be present in your software in order to call logging.debug()?"
   ]
  },
  {
   "cell_type": "code",
   "execution_count": null,
   "id": "721dd43b",
   "metadata": {},
   "outputs": [],
   "source": [
    "Answer:\n",
    "    To be able to call logging.debug(), you must have these two lines at the start of your program:\n",
    "\n",
    "    import logging\n",
    "    logging.basicConfig(level=logging.DEBUG, format=' %(asctime)s -%(levelname)s - %(message)s')"
   ]
  },
  {
   "cell_type": "code",
   "execution_count": null,
   "id": "bda9434c",
   "metadata": {},
   "outputs": [],
   "source": [
    "5. What are the two lines that your program must have in order to have logging.debug() send a logging message to a file named programLog.txt?"
   ]
  },
  {
   "cell_type": "code",
   "execution_count": null,
   "id": "516b231a",
   "metadata": {},
   "outputs": [],
   "source": [
    "Answer:\n",
    "    import logging\n",
    "    logging.basicConfig(filename='programLog.txt', level=logging.DEBUG,format=' %(asctime)s - %(levelname)s - %(message)s')"
   ]
  },
  {
   "cell_type": "code",
   "execution_count": null,
   "id": "224125c9",
   "metadata": {},
   "outputs": [],
   "source": [
    "6. What are the five levels of logging?"
   ]
  },
  {
   "cell_type": "code",
   "execution_count": null,
   "id": "d0047eef",
   "metadata": {},
   "outputs": [],
   "source": [
    "Answer:\n",
    "    DEBUG, INFO, WARNING, ERROR, and CRITICAL"
   ]
  },
  {
   "cell_type": "code",
   "execution_count": null,
   "id": "9dc692e8",
   "metadata": {},
   "outputs": [],
   "source": [
    "7. What line of code would you add to your software to disable all logging messages?"
   ]
  },
  {
   "cell_type": "code",
   "execution_count": null,
   "id": "d6f29e1d",
   "metadata": {},
   "outputs": [],
   "source": [
    "Answer:\n",
    "    logging.disable(logging.CRITICAL)"
   ]
  },
  {
   "cell_type": "code",
   "execution_count": null,
   "id": "b903009a",
   "metadata": {},
   "outputs": [],
   "source": [
    "8.Why is using logging messages better than using print() to display the same message?"
   ]
  },
  {
   "cell_type": "code",
   "execution_count": null,
   "id": "54c7037d",
   "metadata": {},
   "outputs": [],
   "source": [
    "Answer:\n",
    "    You can disable logging messages without removing the logging function calls. \n",
    "    You can selectively disable lower-level logging messages.\n",
    "    You can create logging messages. Logging messages provides a timestamp."
   ]
  },
  {
   "cell_type": "code",
   "execution_count": null,
   "id": "6c729333",
   "metadata": {},
   "outputs": [],
   "source": [
    "9. What are the differences between the Step Over, Step In, and Step Out buttons in the debugger?"
   ]
  },
  {
   "cell_type": "code",
   "execution_count": null,
   "id": "009a7cb2",
   "metadata": {},
   "outputs": [],
   "source": [
    "Answer:\n",
    "    The Step button will move the debugger into a function call. \n",
    "    The Over button will quickly execute the function call without stepping into it.\n",
    "    The Out button will quickly execute the rest of the code until it steps out of the function it currently is in."
   ]
  },
  {
   "cell_type": "code",
   "execution_count": null,
   "id": "f0619c8a",
   "metadata": {},
   "outputs": [],
   "source": [
    "10.After you click Continue, when will the debugger stop ?"
   ]
  },
  {
   "cell_type": "code",
   "execution_count": null,
   "id": "3250c099",
   "metadata": {},
   "outputs": [],
   "source": [
    "Answer:\n",
    "    After you click Continue, the debugger will stop when it has reached the end of the program or a line with a breakpoint."
   ]
  },
  {
   "cell_type": "code",
   "execution_count": null,
   "id": "5948cc64",
   "metadata": {},
   "outputs": [],
   "source": [
    "11. What is the concept of a breakpoint?"
   ]
  },
  {
   "cell_type": "code",
   "execution_count": null,
   "id": "d7b08f1b",
   "metadata": {},
   "outputs": [],
   "source": [
    "Answer:\n",
    "    A breakpoint is a setting on a line of code that causes the debugger to pause when the program execution reaches the line."
   ]
  }
 ],
 "metadata": {
  "kernelspec": {
   "display_name": "Python 3 (ipykernel)",
   "language": "python",
   "name": "python3"
  },
  "language_info": {
   "codemirror_mode": {
    "name": "ipython",
    "version": 3
   },
   "file_extension": ".py",
   "mimetype": "text/x-python",
   "name": "python",
   "nbconvert_exporter": "python",
   "pygments_lexer": "ipython3",
   "version": "3.9.7"
  }
 },
 "nbformat": 4,
 "nbformat_minor": 5
}
