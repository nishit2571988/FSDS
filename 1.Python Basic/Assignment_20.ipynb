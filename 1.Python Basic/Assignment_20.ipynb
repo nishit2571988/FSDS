{
 "cells": [
  {
   "cell_type": "code",
   "execution_count": null,
   "id": "f82d3586",
   "metadata": {},
   "outputs": [],
   "source": [
    "1. Set the variable test1 to the string 'This is a test of the emergency text system,' and save test1 to a file named test.txt."
   ]
  },
  {
   "cell_type": "code",
   "execution_count": null,
   "id": "b0e5387d",
   "metadata": {},
   "outputs": [],
   "source": [
    "Answer:\n",
    "     test1 = 'This is a test of the emergency text system' \n",
    "        \n",
    "     outfile = open('test.txt', 'wt')\n",
    "     outfile.write(test1)\n",
    "     outfile.close()"
   ]
  },
  {
   "cell_type": "code",
   "execution_count": null,
   "id": "e85800af",
   "metadata": {},
   "outputs": [],
   "source": [
    "2. Read the contents of the file test.txt into the variable test2. Is there a difference between test 1 and test 2?"
   ]
  },
  {
   "cell_type": "code",
   "execution_count": null,
   "id": "4c0c66dc",
   "metadata": {},
   "outputs": [],
   "source": [
    "Answer:\n",
    "    with open('test.txt', 'rt') as infile:\n",
    "         test2 = infile.read()\n",
    "    \n",
    "     len(test2)\n",
    "    \n",
    "     test1==test2"
   ]
  },
  {
   "cell_type": "code",
   "execution_count": null,
   "id": "bc649c1e",
   "metadata": {},
   "outputs": [],
   "source": [
    "3. Create a CSV file called books.csv by using these lines:\n",
    "title,author,year\n",
    "The Weirdstone of Brisingamen,Alan Garner,1960\n",
    "Perdido Street Station,China Miéville,2000\n",
    "Thud!,Terry Pratchett,2005\n",
    "The Spellman Files,Lisa Lutz,2007\n",
    "Small Gods,Terry Pratchett,1992\n"
   ]
  },
  {
   "cell_type": "code",
   "execution_count": null,
   "id": "7d3193cb",
   "metadata": {},
   "outputs": [],
   "source": [
    "Answer:\n",
    "    text = '''title,author,year\n",
    "        The Weirdstone of Brisingamen,Alan Garner,1960\n",
    "        Perdido Street Station,China Miéville,2000\n",
    "        Thud!,Terry Pratchett,2005\n",
    "        The Spellman Files,Lisa Lutz,2007\n",
    "        Small Gods,Terry Pratchett,1992\n",
    "    '''\n",
    "    with open('test.csv', 'wt') as outfile:\n",
    "    outfile.write(text)\n"
   ]
  },
  {
   "cell_type": "code",
   "execution_count": null,
   "id": "3aeeb37e",
   "metadata": {},
   "outputs": [],
   "source": [
    "4. Use the sqlite3 module to create a SQLite database called books.db, and a table called books with these fields: title (text), author (text), and year (integer)."
   ]
  },
  {
   "cell_type": "code",
   "execution_count": null,
   "id": "40b4c36c",
   "metadata": {},
   "outputs": [],
   "source": [
    "Answer:\n",
    "    import sqlite3\n",
    "    db = sqlite3.connect('books.db')\n",
    "    curs = db.cursor()\n",
    "    curs.execute('''create table book (title text, author text, year int)''')\n",
    "    sqlite3.Cursor object at 0x1006e3b90>\n",
    "    db.commit()\n"
   ]
  },
  {
   "cell_type": "code",
   "execution_count": null,
   "id": "945e3c20",
   "metadata": {},
   "outputs": [],
   "source": [
    "5. Read books.csv and insert its data into the book table."
   ]
  },
  {
   "cell_type": "code",
   "execution_count": null,
   "id": "92ce4ca6",
   "metadata": {},
   "outputs": [],
   "source": [
    "Answer:\n",
    "     import csv\n",
    "    import sqlite3\n",
    "    ins_str = 'insert into book values(?, ?, ?)'\n",
    "    with open('books.csv', 'rt') as infile:\n",
    "        books = csv.DictReader(infile)\n",
    "        for book in books:\n",
    "            curs.execute(ins_str, (book['title'], book['author'], book['year']))\n",
    "    db.commit()"
   ]
  },
  {
   "cell_type": "code",
   "execution_count": null,
   "id": "94faba24",
   "metadata": {},
   "outputs": [],
   "source": [
    "6. Select and print the title column from the book table in alphabetical order."
   ]
  },
  {
   "cell_type": "code",
   "execution_count": null,
   "id": "836f5e20",
   "metadata": {},
   "outputs": [],
   "source": [
    "Answer:\n",
    "    sql = 'select title from book order by title asc'\n",
    "    for row in db.execute(sql):\n",
    "         print(row[0])\n"
   ]
  },
  {
   "cell_type": "code",
   "execution_count": null,
   "id": "361fa977",
   "metadata": {},
   "outputs": [],
   "source": [
    "7. From the book table, select and print all columns in the order of publication."
   ]
  },
  {
   "cell_type": "code",
   "execution_count": null,
   "id": "93fdc941",
   "metadata": {},
   "outputs": [],
   "source": [
    "Answer:\n",
    "    for row in db.execute('select * from book order by year'):\n",
    "        print(row)\n"
   ]
  },
  {
   "cell_type": "code",
   "execution_count": null,
   "id": "30f74531",
   "metadata": {},
   "outputs": [],
   "source": [
    "8. Use the sqlalchemy module to connect to the sqlite3 database books.db that you just made in exercise 6."
   ]
  },
  {
   "cell_type": "code",
   "execution_count": null,
   "id": "17d28162",
   "metadata": {},
   "outputs": [],
   "source": [
    "Answer:\n",
    "    import sqlalchemy\n",
    "    conn = sqlalchemy.create_engine('sqlite:///books.db')\n",
    "    sql = 'select title from book order by title asc'\n",
    "    rows = conn.execute(sql)\n",
    "    for row in rows:\n",
    "        print(row)\n"
   ]
  },
  {
   "cell_type": "code",
   "execution_count": null,
   "id": "21411331",
   "metadata": {},
   "outputs": [],
   "source": [
    "9. Install the Redis server and the Python redis library (pip install redis) on your computer. Create a Redis hash called test with the fields count (1) and name ('Fester Bestertester'). Print all the fields for test."
   ]
  },
  {
   "cell_type": "code",
   "execution_count": null,
   "id": "1bc1c110",
   "metadata": {},
   "outputs": [],
   "source": [
    "Answer:\n",
    "    import redis\n",
    "    conn = redis.Redis()\n",
    "    conn.delete('test')\n",
    "\n",
    "    conn.hmset('test', {'count': 1, 'name': 'Fester Bestertester'})\n",
    "    conn.hgetall('test')\n",
    "\n"
   ]
  },
  {
   "cell_type": "code",
   "execution_count": null,
   "id": "46e5bc36",
   "metadata": {},
   "outputs": [],
   "source": [
    "10. Increment the count field of test and print it."
   ]
  },
  {
   "cell_type": "code",
   "execution_count": null,
   "id": "12390843",
   "metadata": {},
   "outputs": [],
   "source": [
    "Answer:\n",
    "    conn.hincrby('test', 'count', 3)\n",
    "    \n",
    "    conn.hget('test', 'count')\n",
    "\n"
   ]
  }
 ],
 "metadata": {
  "kernelspec": {
   "display_name": "Python 3 (ipykernel)",
   "language": "python",
   "name": "python3"
  },
  "language_info": {
   "codemirror_mode": {
    "name": "ipython",
    "version": 3
   },
   "file_extension": ".py",
   "mimetype": "text/x-python",
   "name": "python",
   "nbconvert_exporter": "python",
   "pygments_lexer": "ipython3",
   "version": "3.9.7"
  }
 },
 "nbformat": 4,
 "nbformat_minor": 5
}
